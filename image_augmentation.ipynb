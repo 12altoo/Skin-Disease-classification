{
 "cells": [
  {
   "cell_type": "code",
   "execution_count": 1,
   "metadata": {},
   "outputs": [
    {
     "name": "stderr",
     "output_type": "stream",
     "text": [
      "Using TensorFlow backend.\n"
     ]
    }
   ],
   "source": [
    "import cv2\n",
    "import pandas as pd\n",
    "import os\n",
    "import glob\n",
    "from shutil import copyfile\n",
    "from PIL import Image\n",
    "from keras.preprocessing import image \n",
    "import matplotlib.pyplot as plt\n",
    "%matplotlib inline"
   ]
  },
  {
   "cell_type": "code",
   "execution_count": 2,
   "metadata": {},
   "outputs": [],
   "source": [
    "def flip_and_rotate_img_savnig_to_dir(image_pixels, image_name = \"00001-\", output_dir = \"./folder_to_be_deleted/\"):\n",
    "    \n",
    "    rows,cols = image_pixels.shape[:2]\n",
    "    for i_angle in [90,180,270]:\n",
    "        M = cv2.getRotationMatrix2D((cols/2, rows/2), i_angle, 1)\n",
    "        dst = cv2.warpAffine(image_pixels, M, (cols, rows))  \n",
    "        image = Image.fromarray(dst.astype('uint8'), 'RGB')\n",
    "        image.save(output_dir+ '/'+ image_name + \"_\" + str(i_angle) + \"_\" + \"angle\" + \".jpg\")\n",
    "\n",
    "        \n",
    "    flipped_image = cv2.flip(image_pixels, 1)\n",
    "\n",
    "    image = Image.fromarray(flipped_image.astype('uint8'), 'RGB')\n",
    "    image.save(output_dir + image_name + \"_\" + \"flipped.jpg\")\n",
    "\n",
    "    rows,cols = flipped_image.shape[:2]\n",
    "    for i_angle in [90,180,270]:\n",
    "        M = cv2.getRotationMatrix2D((cols/2, rows/2), i_angle, 1)\n",
    "        dst = cv2.warpAffine(flipped_image, M, (cols, rows))  \n",
    "\n",
    "        image = Image.fromarray(dst.astype('uint8'), 'RGB')\n",
    "        image.save(output_dir+'/' + image_name + \"_\" + str(i_angle) + \"_\" +\"angle\" + \"_\" + \"flipped.jpg\")\n",
    "\n"
   ]
  },
  {
   "cell_type": "code",
   "execution_count": 5,
   "metadata": {},
   "outputs": [],
   "source": [
    "input_dirs = [\"./dataset/Basal_cell_cancer_resized\",\n",
    "              \"./dataset/melanoma_resized\",\n",
    "               \"./dataset/Squamous_cell_carcinoma_resized\",\n",
    "              './dataset/Solar_lentigo_resized',\n",
    "               './dataset/Seborrhoeic_keratosis_resized']\n",
    "\n",
    "#example of input dirs "
   ]
  },
  {
   "cell_type": "code",
   "execution_count": 6,
   "metadata": {},
   "outputs": [],
   "source": [
    "output_dirs = [\"./dataset/Basal_cell_cancer_resized\",\n",
    "               \"./dataset/melanoma_resized\",\n",
    "               \"./dataset/Squamous_cell_carcinoma_resized\",\n",
    "               './dataset/Solar_lentigo_resized',\n",
    "               './dataset/Seborrhoeic_keratosis_resized']\n",
    "#example of output dirs"
   ]
  },
  {
   "cell_type": "code",
   "execution_count": 7,
   "metadata": {},
   "outputs": [],
   "source": [
    "def aumenting_image(path,output_dir):\n",
    "    \n",
    "    img = image.load_img(path, target_size=(220, 292))\n",
    "    x = image.img_to_array(img)\n",
    "    \n",
    "    image_name = path.split('/')[-1].split('.')[0]\n",
    "    \n",
    "    flip_and_rotate_img_savnig_to_dir(x, image_name, output_dir)\n"
   ]
  },
  {
   "cell_type": "code",
   "execution_count": 8,
   "metadata": {},
   "outputs": [],
   "source": [
    "for i in range(len(input_dirs)):\n",
    "    for i_img in os.listdir(input_dirs[i]):\n",
    "        aumenting_image(input_dirs[i]+'/' + i_img,output_dirs[i])"
   ]
  },
  {
   "cell_type": "code",
   "execution_count": null,
   "metadata": {},
   "outputs": [],
   "source": []
  }
 ],
 "metadata": {
  "kernelspec": {
   "display_name": "Python 3",
   "language": "python",
   "name": "python3"
  },
  "language_info": {
   "codemirror_mode": {
    "name": "ipython",
    "version": 3
   },
   "file_extension": ".py",
   "mimetype": "text/x-python",
   "name": "python",
   "nbconvert_exporter": "python",
   "pygments_lexer": "ipython3",
   "version": "3.6.8"
  }
 },
 "nbformat": 4,
 "nbformat_minor": 2
}
